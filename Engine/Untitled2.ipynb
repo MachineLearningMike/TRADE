{
 "cells": [
  {
   "cell_type": "code",
   "execution_count": 2,
   "id": "db7a84ea",
   "metadata": {},
   "outputs": [
    {
     "name": "stdout",
     "output_type": "stream",
     "text": [
      "====== Bot: engine is created.\n",
      "====== Bot: engine is starting...\n",
      "====== Bot: Traders, and their strategies/indicators, are created.\n",
      "Finished running 'Engine.py'\n"
     ]
    }
   ],
   "source": [
    "import ___Engine"
   ]
  },
  {
   "cell_type": "code",
   "execution_count": null,
   "id": "b60dc72b",
   "metadata": {},
   "outputs": [],
   "source": []
  }
 ],
 "metadata": {
  "kernelspec": {
   "display_name": "base",
   "language": "python",
   "name": "python3"
  },
  "language_info": {
   "codemirror_mode": {
    "name": "ipython",
    "version": 3
   },
   "file_extension": ".py",
   "mimetype": "text/x-python",
   "name": "python",
   "nbconvert_exporter": "python",
   "pygments_lexer": "ipython3",
   "version": "3.7.12"
  },
  "vscode": {
   "interpreter": {
    "hash": "d4d1e4263499bec80672ea0156c357c1ee493ec2b1c70f0acce89fc37c4a6abe"
   }
  }
 },
 "nbformat": 4,
 "nbformat_minor": 5
}
