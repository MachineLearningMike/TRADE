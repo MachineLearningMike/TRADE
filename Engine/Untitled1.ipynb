{
 "cells": [
  {
   "cell_type": "code",
   "execution_count": 1,
   "id": "1e29ce6b",
   "metadata": {},
   "outputs": [
    {
     "name": "stdout",
     "output_type": "stream",
     "text": [
      "====== Bot: engine is created.\n",
      "====== Bot: engine is starting...\n",
      "====== Bot: Sleeping 0.0 seconds before launching the time machine.\n",
      "====== Bot starting a new round.\n",
      "\n",
      "====== Bot: Traders, and their strategies/indicators, started.\n",
      "====== Indicator - (1, 2, 1 - GoodIndicator): step 0, currInterval 0\n",
      "====== (1, 2, 1 - GoodIndicator) finished. \n",
      "\n",
      "====== Indicator - (2, 2, 1 - GoodIndicator): step 0, currInterval 0\n",
      "====== (2, 1 - SimpleStrategy): contractors finished.\n",
      "====== Indicator - (3, 1, 1 - Prices_Stream): step 0, currInterval 0\n",
      "2023-02-17 11:13:22: --------- (1, 2, 1 - GoodIndicator): Finished 0-th round. Sleeping...\n",
      "\n",
      "====== Indicator - (1, 1, 1 - SimpleIndicator): step 0, currInterval 0\n",
      "====== Strategy - (2, 1 - SimpleStrategy): step 0, currInterval 0\n",
      "====== (2, 1 - SimpleStrategy) finished. \n"
     ]
    },
    {
     "name": "stderr",
     "output_type": "stream",
     "text": [
      "Exception in thread Thread-7:\n",
      "Traceback (most recent call last):\n",
      "  File \"/opt/conda/lib/python3.7/threading.py\", line 926, in _bootstrap_inner\n",
      "    self.run()\n",
      "  File \"/opt/conda/lib/python3.7/threading.py\", line 870, in run\n",
      "    self._target(*self._args, **self._kwargs)\n",
      "  File \"/mnt/code/Trading/Engine/ThreadOnTimeMachine.py\", line 134, in ThreadFunciton\n",
      "    self.SingleStep(stepId) # As all contractores have finished, it's my turn to do.\n",
      "  File \"/mnt/code/Trading/Engine/Indicator/SimpleIndicator.py\", line 33, in SingleStep\n",
      "    end = from_dt_utc_to_dt_local(Binance.gstream_datetime_utc) + timedelta(seconds=1) # end is exclusive.\n",
      "  File \"/mnt/code/Trading/Engine/Exchange/Utility.py\", line 43, in from_dt_utc_to_dt_local\n",
      "    dt_local = dt_utc + offset\n",
      "TypeError: unsupported operand type(s) for +: 'NoneType' and 'datetime.timedelta'\n",
      "\n"
     ]
    },
    {
     "name": "stdout",
     "output_type": "stream",
     "text": [
      "\n",
      "====== Indicator - (2, 1, 1 - GoodIndicator): step 0, currInterval 0\n",
      "====== (2, 2, 1 - GoodIndicator) finished. All done\n",
      "\n",
      "2023-02-17 11:13:22: --------- (2, 1 - SimpleStrategy): Finished 0-th round. Sleeping...\n",
      "\n",
      "====== (2, 1, 1 - GoodIndicator) finished. \n",
      "\n",
      "2023-02-17 11:13:22: --------- (2, 1, 1 - GoodIndicator): Finished 0-th round. Sleeping...\n",
      "\n",
      "2023-02-17 11:13:22: --------- (2, 2, 1 - GoodIndicator): Finished 0-th round. Sleeping...\n",
      "\n",
      "-----------------stream created id=4055b8d2abcc-fdd5-8b0f-b1db-2a0038fd, channel=kline_1m, market=btcusdt\n",
      "******* new demisser cycle --------\n",
      "\n",
      "~~~~~~~~~~~~~~~~~~~~~~~ Exception in demisser: \n",
      "dictionary changed size during iteration\n",
      "====== (3, 1, 1 - Prices_Stream) finished. \n",
      "\n",
      "2023-02-17 11:13:22: --------- (3, 1, 1 - Prices_Stream): Finished 0-th round. Sleeping...\n",
      "\n",
      "******* new demisser cycle --------\n",
      "\n"
     ]
    }
   ],
   "source": [
    "import ___Engine"
   ]
  },
  {
   "cell_type": "code",
   "execution_count": null,
   "id": "53d9b9f4",
   "metadata": {},
   "outputs": [],
   "source": []
  }
 ],
 "metadata": {
  "kernelspec": {
   "display_name": "base",
   "language": "python",
   "name": "python3"
  },
  "language_info": {
   "codemirror_mode": {
    "name": "ipython",
    "version": 3
   },
   "file_extension": ".py",
   "mimetype": "text/x-python",
   "name": "python",
   "nbconvert_exporter": "python",
   "pygments_lexer": "ipython3",
   "version": "3.7.12"
  },
  "vscode": {
   "interpreter": {
    "hash": "d4d1e4263499bec80672ea0156c357c1ee493ec2b1c70f0acce89fc37c4a6abe"
   }
  }
 },
 "nbformat": 4,
 "nbformat_minor": 5
}
